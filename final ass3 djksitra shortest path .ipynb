{
 "cells": [
  {
   "cell_type": "code",
   "execution_count": 1,
   "id": "b7838163",
   "metadata": {},
   "outputs": [
    {
     "name": "stdout",
     "output_type": "stream",
     "text": [
      "Shortest distances from node A\n",
      "A : 0\n",
      "B : 3\n",
      "C : 1\n",
      "D : 2\n"
     ]
    }
   ],
   "source": [
    "import sys\n",
    "\n",
    "def dijkstra(graph, start):\n",
    "    # Initialize distances dictionary with infinity values for all nodes\n",
    "    distances = {node: float('inf') for node in graph}\n",
    "    distances[start] = 0  # Set distance of start node to 0\n",
    "    visited = set()  # Set of visited nodes\n",
    "\n",
    "    while len(visited) < len(graph):\n",
    "        # Find the node with the minimum distance\n",
    "        min_node = None\n",
    "        min_distance = float('inf')\n",
    "        for node in graph:\n",
    "            if node not in visited and distances[node] < min_distance:\n",
    "                min_node = node\n",
    "                min_distance = distances[node]\n",
    "\n",
    "        if min_node is None:\n",
    "            break\n",
    "\n",
    "        visited.add(min_node)\n",
    "\n",
    "        # Update distances of neighboring nodes\n",
    "        for neighbor, weight in graph[min_node]:\n",
    "            distance = min_distance + weight\n",
    "            if distance < distances[neighbor]:\n",
    "                distances[neighbor] = distance\n",
    "\n",
    "    return distances\n",
    "\n",
    "# Test the algorithm\n",
    "graph = {\n",
    "    'A': [('B', 4), ('C', 1)],\n",
    "    'B': [('A', 4), ('C', 2), ('D', 5)],\n",
    "    'C': [('A', 1), ('B', 2), ('D', 1)],\n",
    "    'D': [('B', 5), ('C', 1)]\n",
    "}\n",
    "start_node = 'A'\n",
    "distances = dijkstra(graph, start_node)\n",
    "\n",
    "print(\"Shortest distances from node\", start_node)\n",
    "for node, distance in distances.items():\n",
    "    print(node, \":\", distance)\n"
   ]
  },
  {
   "cell_type": "code",
   "execution_count": null,
   "id": "3c9aee29",
   "metadata": {},
   "outputs": [],
   "source": []
  }
 ],
 "metadata": {
  "kernelspec": {
   "display_name": "Python 3 (ipykernel)",
   "language": "python",
   "name": "python3"
  },
  "language_info": {
   "codemirror_mode": {
    "name": "ipython",
    "version": 3
   },
   "file_extension": ".py",
   "mimetype": "text/x-python",
   "name": "python",
   "nbconvert_exporter": "python",
   "pygments_lexer": "ipython3",
   "version": "3.10.9"
  }
 },
 "nbformat": 4,
 "nbformat_minor": 5
}
