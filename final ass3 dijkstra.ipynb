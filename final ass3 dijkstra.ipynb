{
 "cells": [
  {
   "cell_type": "code",
   "execution_count": 1,
   "id": "1f0bdd2c",
   "metadata": {},
   "outputs": [
    {
     "name": "stdout",
     "output_type": "stream",
     "text": [
      "Shortest distances from node A\n",
      "A : 0\n",
      "B : 3\n",
      "C : 1\n",
      "D : 2\n"
     ]
    }
   ],
   "source": [
    "import heapq\n",
    "\n",
    "def dijkstra(graph, start):\n",
    "    distances = {node: float('inf') for node in graph}  # Initialize distances to infinity\n",
    "    distances[start] = 0  # Set distance of start node to 0\n",
    "    pq = [(0, start)]  # Priority queue to store nodes with their distances\n",
    "\n",
    "    while pq:\n",
    "        current_dist, current_node = heapq.heappop(pq)  # Pop node with the smallest distance\n",
    "        if current_dist > distances[current_node]:  # Skip if already visited\n",
    "            continue\n",
    "        for neighbor, weight in graph[current_node]:  # Explore neighbors\n",
    "            distance = current_dist + weight\n",
    "            if distance < distances[neighbor]:  # Update distance if shorter path found\n",
    "                distances[neighbor] = distance\n",
    "                heapq.heappush(pq, (distance, neighbor))  # Push neighbor into priority queue\n",
    "\n",
    "    return distances\n",
    "\n",
    "# Test the algorithm\n",
    "graph = {\n",
    "    'A': [('B', 4), ('C', 1)],\n",
    "    'B': [('A', 4), ('C', 2), ('D', 5)],\n",
    "    'C': [('A', 1), ('B', 2), ('D', 1)],\n",
    "    'D': [('B', 5), ('C', 1)]\n",
    "}\n",
    "start_node = 'A'\n",
    "distances = dijkstra(graph, start_node)\n",
    "\n",
    "print(\"Shortest distances from node\", start_node)\n",
    "for node, distance in distances.items():\n",
    "    print(node, \":\", distance)\n"
   ]
  },
  {
   "cell_type": "code",
   "execution_count": null,
   "id": "68626d06",
   "metadata": {},
   "outputs": [],
   "source": []
  }
 ],
 "metadata": {},
 "nbformat": 4,
 "nbformat_minor": 5
}
