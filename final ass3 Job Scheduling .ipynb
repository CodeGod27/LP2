{
 "cells": [
  {
   "cell_type": "code",
   "execution_count": 1,
   "id": "bdb67507",
   "metadata": {},
   "outputs": [
    {
     "name": "stdout",
     "output_type": "stream",
     "text": [
      "Scheduled jobs: [(1, 4), (5, 7), (8, 11)]\n"
     ]
    }
   ],
   "source": [
    "def job_scheduling(jobs):\n",
    "    # Sort the jobs based on their finish times\n",
    "    sorted_jobs = sorted(jobs, key=lambda x: x[1])\n",
    "    \n",
    "    # Initialize the result list with the first job\n",
    "    result = [sorted_jobs[0]]\n",
    "    \n",
    "    # Iterate through the remaining jobs\n",
    "    for job in sorted_jobs[1:]:\n",
    "        # Check if the current job's start time is after or equal to the finish time of the last scheduled job\n",
    "        if job[0] >= result[-1][1]:\n",
    "            # Add the current job to the result list\n",
    "            result.append(job)\n",
    "    \n",
    "    return result\n",
    "\n",
    "# Test the algorithm\n",
    "jobs = [(1, 4), (3, 5), (0, 6), (5, 7), (3, 8), (5, 9), (6, 10), (8, 11)]\n",
    "scheduled_jobs = job_scheduling(jobs)\n",
    "print(\"Scheduled jobs:\", scheduled_jobs)"
   ]
  },
  {
   "cell_type": "code",
   "execution_count": 1,
   "id": "c7b71cfa",
   "metadata": {},
   "outputs": [
    {
     "name": "stdout",
     "output_type": "stream",
     "text": [
      "job Scheduled ['j1', 'j2', 'j4', 'j5']\n",
      "292\n"
     ]
    }
   ],
   "source": [
    "profits=[15,27,10,100,150]\n",
    "jobs=[\"j1\",\"j2\",\"j3\",\"j4\",\"j5\"]\n",
    "deadline=[2,3,3,3,4]\n",
    "\n",
    "profitNJobs=list(zip(profits,jobs,deadline))\n",
    "profitNJobs=sorted(profitNJobs,key=lambda x:x[0], reverse=True)\n",
    "#t uses a lambda function to specify that the first element (x[0])\n",
    "#of each tuple should be considered as the key for sorting\n",
    "\n",
    "#empty list is created name as slot with length of jobs\n",
    "slot=[]\n",
    "for _ in range(len(jobs)):\n",
    "    slot.append(0)\n",
    "\n",
    "profit=0\n",
    "ans=[]\n",
    "for i in range(len(jobs)):\n",
    "    ans.append('null')\n",
    "\n",
    "for i in range(len(jobs)):\n",
    "    job=profitNJobs[i]\n",
    "    for j in range(job[2],0,-1):\n",
    "        if slot[j]==0:\n",
    "            ans[j]=job[1]\n",
    "            profit+=job[0]\n",
    "            slot[j]=1\n",
    "            break\n",
    "print(\"job Scheduled\", ans[1:])\n",
    "print(profit)"
   ]
  },
  {
   "cell_type": "code",
   "execution_count": null,
   "id": "0066be9c",
   "metadata": {},
   "outputs": [],
   "source": []
  }
 ],
 "metadata": {
  "kernelspec": {
   "display_name": "Python 3 (ipykernel)",
   "language": "python",
   "name": "python3"
  },
  "language_info": {
   "codemirror_mode": {
    "name": "ipython",
    "version": 3
   },
   "file_extension": ".py",
   "mimetype": "text/x-python",
   "name": "python",
   "nbconvert_exporter": "python",
   "pygments_lexer": "ipython3",
   "version": "3.10.9"
  }
 },
 "nbformat": 4,
 "nbformat_minor": 5
}
