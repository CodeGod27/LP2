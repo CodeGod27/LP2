{
 "cells": [
  {
   "cell_type": "code",
   "execution_count": 1,
   "id": "95118fcf",
   "metadata": {},
   "outputs": [
    {
     "name": "stdout",
     "output_type": "stream",
     "text": [
      "Optimal path: A -> D -> F -> G\n"
     ]
    }
   ],
   "source": [
    "import heapq\n",
    "\n",
    "# Define the graph as an adjacency dictionary\n",
    "graph = {\n",
    "    'A': {'B': 3, 'C': 5, 'D': 2},\n",
    "    'B': {'A': 3, 'C': 4, 'E': 7},\n",
    "    'C': {'A': 5, 'B': 4, 'D': 1, 'E': 2},\n",
    "    'D': {'A': 2, 'C': 1, 'F': 5},\n",
    "    'E': {'B': 7, 'C': 2, 'F': 6},\n",
    "    'F': {'D': 5, 'E': 6, 'G': 4},\n",
    "    'G': {'F': 4}\n",
    "}\n",
    "\n",
    "# Heuristic function (Manhattan distance) between two nodes\n",
    "def heuristic(node, goal):\n",
    "    return abs(ord(node) - ord(goal))\n",
    "\n",
    "# A* algorithm\n",
    "def astar_search(graph, start, goal, heuristic):\n",
    "    # Initialize the priority queue with the start node\n",
    "    queue = [(0, start)]\n",
    "    heapq.heapify(queue)\n",
    "\n",
    "    # Initialize the cost dictionary with the start node\n",
    "    cost = {start: 0}\n",
    "\n",
    "    # Initialize the path dictionary with the start node\n",
    "    path = {start: []}\n",
    "\n",
    "    while queue:\n",
    "        # Get the node with the minimum cost from the priority queue\n",
    "        current_cost, current_node = heapq.heappop(queue)\n",
    "\n",
    "        # Check if the current node is the goal node\n",
    "        if current_node == goal:\n",
    "            return path[current_node]\n",
    "\n",
    "        # Explore the neighbors of the current node\n",
    "        for neighbor, weight in graph[current_node].items():\n",
    "            # Calculate the cost from the start node to the neighbor node\n",
    "            new_cost = cost[current_node] + weight\n",
    "\n",
    "            # Check if the neighbor node has not been visited or has a lower cost\n",
    "            if neighbor not in cost or new_cost < cost[neighbor]:\n",
    "                # Update the cost dictionary and priority queue with the new cost\n",
    "                cost[neighbor] = new_cost\n",
    "                heapq.heappush(queue, (new_cost + heuristic(neighbor, goal), neighbor))\n",
    "\n",
    "                # Update the path dictionary with the new path\n",
    "                path[neighbor] = path[current_node] + [current_node]\n",
    "\n",
    "    # No path found\n",
    "    return None\n",
    "\n",
    "# Test the algorithm\n",
    "start_node = 'A'\n",
    "goal_node = 'G'\n",
    "optimal_path = astar_search(graph, start_node, goal_node, heuristic)\n",
    "\n",
    "if optimal_path is None:\n",
    "    print(\"No path found!\")\n",
    "else:\n",
    "    print(\"Optimal path:\", ' -> '.join(optimal_path + [goal_node]))\n"
   ]
  },
  {
   "cell_type": "code",
   "execution_count": null,
   "id": "e75fa59c",
   "metadata": {},
   "outputs": [],
   "source": []
  }
 ],
 "metadata": {
  "kernelspec": {
   "display_name": "Python 3 (ipykernel)",
   "language": "python",
   "name": "python3"
  },
  "language_info": {
   "codemirror_mode": {
    "name": "ipython",
    "version": 3
   },
   "file_extension": ".py",
   "mimetype": "text/x-python",
   "name": "python",
   "nbconvert_exporter": "python",
   "pygments_lexer": "ipython3",
   "version": "3.10.9"
  }
 },
 "nbformat": 4,
 "nbformat_minor": 5
}
