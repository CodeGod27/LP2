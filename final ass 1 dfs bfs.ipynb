{
 "cells": [
  {
   "cell_type": "code",
   "execution_count": 1,
   "id": "942e7d89",
   "metadata": {},
   "outputs": [
    {
     "name": "stdout",
     "output_type": "stream",
     "text": [
      "Enter the number of vertices for BFS: 3\n",
      "Enter the vertex 0 for BFS: 1\n",
      "Enter the edges for vertex 0 (comma-separated) for BFS: 3\n",
      "Enter the vertex 1 for BFS: 3\n",
      "Enter the edges for vertex 1 (comma-separated) for BFS: 3\n",
      "Enter the vertex 2 for BFS: 3\n",
      "Enter the edges for vertex 2 (comma-separated) for BFS: 3\n",
      "Enter the root vertex for BFS: 3\n",
      "{3}\n",
      "Enter the number of vertices for DFS: 3\n",
      "Enter the vertex 0 for DFS: 33\n",
      "Enter the edges for vertex 0 (comma-separated) for DFS: 3\n",
      "Enter the vertex 1 for DFS: 3\n",
      "Enter the edges for vertex 1 (comma-separated) for DFS: 3\n",
      "Enter the vertex 2 for DFS: 3\n",
      "Enter the edges for vertex 2 (comma-separated) for DFS: 3\n",
      "Enter the root vertex for DFS: 3\n",
      "3\n"
     ]
    }
   ],
   "source": [
    "import collections\n",
    "\n",
    "def bfs(graph, root):\n",
    "    visited = set()\n",
    "    queue = collections.deque([root])\n",
    "\n",
    "    while queue:\n",
    "        vertex = queue.popleft()\n",
    "        visited.add(vertex)\n",
    "        for i in graph[vertex]:\n",
    "            if i not in visited:\n",
    "                queue.append(i)\n",
    "    print(visited)\n",
    "\n",
    "def dfs(visited, graph, root):\n",
    "    if root not in visited:\n",
    "        print(root)\n",
    "        visited.add(root)\n",
    "        for neighbour in graph[root]:\n",
    "            dfs(visited, graph, neighbour)\n",
    "\n",
    "if __name__ == \"__main__\":\n",
    "    # Manually input the graph for BFS\n",
    "    graph_bfs = {}\n",
    "    num_vertices_bfs = int(input(\"Enter the number of vertices for BFS: \"))\n",
    "\n",
    "    for i in range(num_vertices_bfs):\n",
    "        vertex = int(input(f\"Enter the vertex {i} for BFS: \"))\n",
    "        edges = input(f\"Enter the edges for vertex {i} (comma-separated) for BFS: \").split(\",\")\n",
    "        graph_bfs[vertex] = [int(edge) for edge in edges]\n",
    "\n",
    "    root_vertex_bfs = int(input(\"Enter the root vertex for BFS: \"))\n",
    "    bfs(graph_bfs, root_vertex_bfs)\n",
    "\n",
    "    # Manually input the graph for DFS\n",
    "    graph_dfs = {}\n",
    "    num_vertices_dfs = int(input(\"Enter the number of vertices for DFS: \"))\n",
    "\n",
    "    for i in range(num_vertices_dfs):\n",
    "        vertex = input(f\"Enter the vertex {i} for DFS: \")\n",
    "        edges = input(f\"Enter the edges for vertex {i} (comma-separated) for DFS: \").split(\",\")\n",
    "        graph_dfs[vertex] = edges\n",
    "\n",
    "    visited_dfs = set()\n",
    "    root_vertex_dfs = input(\"Enter the root vertex for DFS: \")\n",
    "    dfs(visited_dfs, graph_dfs, root_vertex_dfs)\n"
   ]
  },
  {
   "cell_type": "code",
   "execution_count": 2,
   "id": "ebd64a58",
   "metadata": {},
   "outputs": [
    {
     "name": "stdout",
     "output_type": "stream",
     "text": [
      "{0, 1, 2, 3, 4, 5}\n"
     ]
    }
   ],
   "source": [
    "import collections\n",
    "def bfs(graph,root):\n",
    "    visited=set()\n",
    "    queue=collections.deque([root])\n",
    "    \n",
    "    while queue:\n",
    "        vertex=queue.popleft()\n",
    "        visited.add(vertex)\n",
    "        for i in graph[vertex]:\n",
    "          if i not in visited:\n",
    "            queue.append(i)\n",
    "    print(visited)\n",
    "    \n",
    "\n",
    "if __name__ == \"__main__\":\n",
    "        \n",
    "  graph={0:[1,2],1:[3,4],2:[5],3:[0],4:[0],5:[0] }                #infrom of key value pair / dictionary graph\n",
    "  bfs(graph,0)"
   ]
  },
  {
   "cell_type": "code",
   "execution_count": 3,
   "id": "1126f1ea",
   "metadata": {},
   "outputs": [
    {
     "name": "stdout",
     "output_type": "stream",
     "text": [
      "A\n",
      "B\n",
      "E\n",
      "C\n",
      "D\n"
     ]
    }
   ],
   "source": [
    "graph = {\n",
    "    'A':['B','C','D'],'B':['E'],'C':['D','E'],'D':[],'E':[]\n",
    "}\n",
    "visited = set()\n",
    "\n",
    "def dfs(visited, graph, root):\n",
    "    if root not in visited:\n",
    "        print(root)\n",
    "        visited.add(root)\n",
    "        for neighbour in graph[root]:\n",
    "          dfs(visited, graph, neighbour)\n",
    "\n",
    "dfs(visited,graph,'A')\n"
   ]
  },
  {
   "cell_type": "code",
   "execution_count": 4,
   "id": "34aacfb6",
   "metadata": {},
   "outputs": [
    {
     "name": "stdout",
     "output_type": "stream",
     "text": [
      "0\n",
      "1\n",
      "3\n",
      "4\n",
      "2\n",
      "5\n"
     ]
    }
   ],
   "source": [
    "graph={0:[1,2],1:[3,4],2:[5],3:[0],4:[0],5:[0] }\n",
    "visited=set()\n",
    "\n",
    "def dfs(visited,graph,root):\n",
    "    if root not in visited:\n",
    "        print(root)\n",
    "        visited.add(root)\n",
    "        for neighbour in graph[root]:\n",
    "         dfs(visited,graph,neighbour)\n",
    "dfs(visited,graph,0)"
   ]
  },
  {
   "cell_type": "code",
   "execution_count": null,
   "id": "17405c1f",
   "metadata": {},
   "outputs": [],
   "source": []
  }
 ],
 "metadata": {
  "kernelspec": {
   "display_name": "Python 3 (ipykernel)",
   "language": "python",
   "name": "python3"
  },
  "language_info": {
   "codemirror_mode": {
    "name": "ipython",
    "version": 3
   },
   "file_extension": ".py",
   "mimetype": "text/x-python",
   "name": "python",
   "nbconvert_exporter": "python",
   "pygments_lexer": "ipython3",
   "version": "3.10.9"
  }
 },
 "nbformat": 4,
 "nbformat_minor": 5
}
