{
 "cells": [
  {
   "cell_type": "code",
   "execution_count": 4,
   "id": "3f0740a9",
   "metadata": {},
   "outputs": [
    {
     "name": "stdout",
     "output_type": "stream",
     "text": [
      "Graph coloring found:\n",
      "Vertex 1 : Color 1\n",
      "Vertex 2 : Color 2\n",
      "Vertex 3 : Color 3\n",
      "Vertex 4 : Color 2\n"
     ]
    },
    {
     "data": {
      "text/plain": [
       "True"
      ]
     },
     "execution_count": 4,
     "metadata": {},
     "output_type": "execute_result"
    }
   ],
   "source": [
    "class Graph:\n",
    "    def __init__(self, vertices):\n",
    "        self.vertices = vertices\n",
    "        self.graph = [[0 for _ in range(vertices)] for _ in range(vertices)]\n",
    "\n",
    "    def is_safe(self, v, color, c):\n",
    "        for i in range(self.vertices):\n",
    "            if self.graph[v][i] == 1 and color[i] == c:\n",
    "                return False\n",
    "        return True\n",
    "\n",
    "    def graph_coloring_util(self, m, color, v):\n",
    "        if v == self.vertices:\n",
    "            return True\n",
    "\n",
    "        for c in range(1, m+1):\n",
    "            if self.is_safe(v, color, c):\n",
    "                color[v] = c\n",
    "\n",
    "                if self.graph_coloring_util(m, color, v+1):\n",
    "                    return True\n",
    "\n",
    "                color[v] = 0\n",
    "\n",
    "    def graph_coloring(self, m):\n",
    "        color = [0] * self.vertices\n",
    "\n",
    "        if not self.graph_coloring_util(m, color, 0):\n",
    "            print(\"No solution exists.\")\n",
    "            return False\n",
    "\n",
    "        print(\"Graph coloring found:\")\n",
    "        for v in range(self.vertices):\n",
    "            print(\"Vertex\", v+1, \": Color\", color[v])\n",
    "        return True\n",
    "\n",
    "\n",
    "# Example usage\n",
    "g = Graph(4)\n",
    "g.graph = [[0, 1, 1, 1],\n",
    "           [1, 0, 1, 0],\n",
    "           [1, 1, 0, 1],\n",
    "           [1, 0, 1, 0]]\n",
    "\n",
    "m = 3  # Number of colors\n",
    "g.graph_coloring(m)\n"
   ]
  },
  {
   "cell_type": "code",
   "execution_count": null,
   "id": "658e2574",
   "metadata": {},
   "outputs": [],
   "source": []
  },
  {
   "cell_type": "code",
   "execution_count": null,
   "id": "1f2f51e3",
   "metadata": {},
   "outputs": [],
   "source": []
  }
 ],
 "metadata": {
  "kernelspec": {
   "display_name": "Python 3 (ipykernel)",
   "language": "python",
   "name": "python3"
  },
  "language_info": {
   "codemirror_mode": {
    "name": "ipython",
    "version": 3
   },
   "file_extension": ".py",
   "mimetype": "text/x-python",
   "name": "python",
   "nbconvert_exporter": "python",
   "pygments_lexer": "ipython3",
   "version": "3.10.9"
  }
 },
 "nbformat": 4,
 "nbformat_minor": 5
}
