{
 "cells": [
  {
   "cell_type": "code",
   "execution_count": 2,
   "id": "479d15de",
   "metadata": {},
   "outputs": [
    {
     "name": "stdout",
     "output_type": "stream",
     "text": [
      "Solution found:\n",
      "[1, 2, 3]\n",
      "[4, 5, 6]\n",
      "[7, 8, 0]\n"
     ]
    }
   ],
   "source": [
    "from queue import PriorityQueue\n",
    "\n",
    "# Define the goal state\n",
    "goal_state = [[1, 2, 3], [4, 5, 6], [7, 8, 0]]  # 0 represents the empty space\n",
    "\n",
    "# Define the possible moves\n",
    "moves = [\n",
    "    (-1, 0),  # Up\n",
    "    (1, 0),   # Down\n",
    "    (0, -1),  # Left\n",
    "    (0, 1)    # Right\n",
    "]\n",
    "\n",
    "# Calculate the Manhattan distance heuristic\n",
    "def calculate_manhattan_distance(state):\n",
    "    distance = 0\n",
    "    for i in range(3):\n",
    "        for j in range(3):\n",
    "            value = state[i][j]\n",
    "            if value != 0:\n",
    "                target_row = (value - 1) // 3\n",
    "                target_col = (value - 1) % 3\n",
    "                distance += abs(i - target_row) + abs(j - target_col)\n",
    "    return distance\n",
    "\n",
    "# A* search algorithm\n",
    "def solve_puzzle(start_state):\n",
    "    visited = set()\n",
    "    queue = PriorityQueue()\n",
    "    queue.put((0, start_state))\n",
    "    \n",
    "    while not queue.empty():\n",
    "        _, current_state = queue.get()\n",
    "        \n",
    "        if current_state == goal_state:\n",
    "            return current_state  # Puzzle solved\n",
    "        \n",
    "        visited.add(tuple(map(tuple, current_state)))  # Convert to tuple for hashing\n",
    "        \n",
    "        empty_row, empty_col = find_empty_space(current_state)\n",
    "        \n",
    "        for move in moves:\n",
    "            new_row = empty_row + move[0]\n",
    "            new_col = empty_col + move[1]\n",
    "            \n",
    "            if 0 <= new_row < 3 and 0 <= new_col < 3:\n",
    "                new_state = [list(row) for row in current_state]\n",
    "                new_state[empty_row][empty_col], new_state[new_row][new_col] = new_state[new_row][new_col], new_state[empty_row][empty_col]\n",
    "                \n",
    "                if tuple(map(tuple, new_state)) not in visited:\n",
    "                    priority = calculate_manhattan_distance(new_state)\n",
    "                    queue.put((priority, new_state))\n",
    "                    visited.add(tuple(map(tuple, new_state)))\n",
    "    \n",
    "    return None  # No solution found\n",
    "\n",
    "# Find the coordinates of the empty space (0)\n",
    "def find_empty_space(state):\n",
    "    for i in range(3):\n",
    "        for j in range(3):\n",
    "            if state[i][j] == 0:\n",
    "                return i, j\n",
    "\n",
    "# Example usage\n",
    "start_state = [[1, 2, 3], [4, 0, 6], [7, 5, 8]]  # Initial state\n",
    "solution = solve_puzzle(start_state)\n",
    "\n",
    "if solution:\n",
    "    print(\"Solution found:\")\n",
    "    for row in solution:\n",
    "        print(row)\n",
    "else:\n",
    "    print(\"No solution found.\")"
   ]
  },
  {
   "cell_type": "code",
   "execution_count": null,
   "id": "53eb22af",
   "metadata": {},
   "outputs": [],
   "source": []
  }
 ],
 "metadata": {
  "kernelspec": {
   "display_name": "Python 3 (ipykernel)",
   "language": "python",
   "name": "python3"
  },
  "language_info": {
   "codemirror_mode": {
    "name": "ipython",
    "version": 3
   },
   "file_extension": ".py",
   "mimetype": "text/x-python",
   "name": "python",
   "nbconvert_exporter": "python",
   "pygments_lexer": "ipython3",
   "version": "3.10.9"
  }
 },
 "nbformat": 4,
 "nbformat_minor": 5
}
